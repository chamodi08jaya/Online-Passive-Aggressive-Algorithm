{
 "cells": [
  {
   "cell_type": "code",
   "execution_count": 28,
   "id": "adf649bf",
   "metadata": {},
   "outputs": [],
   "source": [
    "#Import all the required packages"
   ]
  },
  {
   "cell_type": "code",
   "execution_count": 29,
   "id": "6010b9e0",
   "metadata": {},
   "outputs": [],
   "source": [
    "#Pandas data is short for panel data that help to manipulate data in python\n",
    "import pandas as pd\n",
    "#Numpy is help to generate random numbers and do other many things\n",
    "import numpy as np"
   ]
  },
  {
   "cell_type": "code",
   "execution_count": 30,
   "id": "41782698",
   "metadata": {},
   "outputs": [],
   "source": [
    "#Import the Bread Cancer dataset"
   ]
  },
  {
   "cell_type": "code",
   "execution_count": 31,
   "id": "4f0b7721",
   "metadata": {},
   "outputs": [],
   "source": [
    "data = pd.read_csv(\"datafile.csv\")"
   ]
  },
  {
   "cell_type": "code",
   "execution_count": 32,
   "id": "0af4cd66",
   "metadata": {},
   "outputs": [],
   "source": [
    "#Get header values in the table"
   ]
  },
  {
   "cell_type": "code",
   "execution_count": 33,
   "id": "c25cd2d4",
   "metadata": {},
   "outputs": [
    {
     "data": {
      "text/html": [
       "<div>\n",
       "<style scoped>\n",
       "    .dataframe tbody tr th:only-of-type {\n",
       "        vertical-align: middle;\n",
       "    }\n",
       "\n",
       "    .dataframe tbody tr th {\n",
       "        vertical-align: top;\n",
       "    }\n",
       "\n",
       "    .dataframe thead th {\n",
       "        text-align: right;\n",
       "    }\n",
       "</style>\n",
       "<table border=\"1\" class=\"dataframe\">\n",
       "  <thead>\n",
       "    <tr style=\"text-align: right;\">\n",
       "      <th></th>\n",
       "      <th>Sample code number</th>\n",
       "      <th>Clump Thickness</th>\n",
       "      <th>Uniformity of Cell Size</th>\n",
       "      <th>Uniformity of Cell Shape</th>\n",
       "      <th>Marginal Adhesion</th>\n",
       "      <th>Single Epithelial Cell Size</th>\n",
       "      <th>Bare Nuclei</th>\n",
       "      <th>Bland Chromatin</th>\n",
       "      <th>Normal Nucleoli</th>\n",
       "      <th>Mitoses</th>\n",
       "      <th>Class</th>\n",
       "    </tr>\n",
       "  </thead>\n",
       "  <tbody>\n",
       "    <tr>\n",
       "      <th>0</th>\n",
       "      <td>1000025</td>\n",
       "      <td>5</td>\n",
       "      <td>1</td>\n",
       "      <td>1</td>\n",
       "      <td>1</td>\n",
       "      <td>2</td>\n",
       "      <td>1</td>\n",
       "      <td>3</td>\n",
       "      <td>1</td>\n",
       "      <td>1</td>\n",
       "      <td>2</td>\n",
       "    </tr>\n",
       "    <tr>\n",
       "      <th>1</th>\n",
       "      <td>1002945</td>\n",
       "      <td>5</td>\n",
       "      <td>4</td>\n",
       "      <td>4</td>\n",
       "      <td>5</td>\n",
       "      <td>7</td>\n",
       "      <td>10</td>\n",
       "      <td>3</td>\n",
       "      <td>2</td>\n",
       "      <td>1</td>\n",
       "      <td>2</td>\n",
       "    </tr>\n",
       "    <tr>\n",
       "      <th>2</th>\n",
       "      <td>1015425</td>\n",
       "      <td>3</td>\n",
       "      <td>1</td>\n",
       "      <td>1</td>\n",
       "      <td>1</td>\n",
       "      <td>2</td>\n",
       "      <td>2</td>\n",
       "      <td>3</td>\n",
       "      <td>1</td>\n",
       "      <td>1</td>\n",
       "      <td>2</td>\n",
       "    </tr>\n",
       "    <tr>\n",
       "      <th>3</th>\n",
       "      <td>1016277</td>\n",
       "      <td>6</td>\n",
       "      <td>8</td>\n",
       "      <td>8</td>\n",
       "      <td>1</td>\n",
       "      <td>3</td>\n",
       "      <td>4</td>\n",
       "      <td>3</td>\n",
       "      <td>7</td>\n",
       "      <td>1</td>\n",
       "      <td>2</td>\n",
       "    </tr>\n",
       "    <tr>\n",
       "      <th>4</th>\n",
       "      <td>1017023</td>\n",
       "      <td>4</td>\n",
       "      <td>1</td>\n",
       "      <td>1</td>\n",
       "      <td>3</td>\n",
       "      <td>2</td>\n",
       "      <td>1</td>\n",
       "      <td>3</td>\n",
       "      <td>1</td>\n",
       "      <td>1</td>\n",
       "      <td>2</td>\n",
       "    </tr>\n",
       "  </tbody>\n",
       "</table>\n",
       "</div>"
      ],
      "text/plain": [
       "   Sample code number  Clump Thickness  Uniformity of Cell Size  \\\n",
       "0             1000025                5                        1   \n",
       "1             1002945                5                        4   \n",
       "2             1015425                3                        1   \n",
       "3             1016277                6                        8   \n",
       "4             1017023                4                        1   \n",
       "\n",
       "   Uniformity of Cell Shape  Marginal Adhesion  Single Epithelial Cell Size  \\\n",
       "0                         1                  1                            2   \n",
       "1                         4                  5                            7   \n",
       "2                         1                  1                            2   \n",
       "3                         8                  1                            3   \n",
       "4                         1                  3                            2   \n",
       "\n",
       "   Bare Nuclei  Bland Chromatin  Normal Nucleoli  Mitoses  Class  \n",
       "0            1                3                1        1      2  \n",
       "1           10                3                2        1      2  \n",
       "2            2                3                1        1      2  \n",
       "3            4                3                7        1      2  \n",
       "4            1                3                1        1      2  "
      ]
     },
     "execution_count": 33,
     "metadata": {},
     "output_type": "execute_result"
    }
   ],
   "source": [
    "data.head()"
   ]
  },
  {
   "cell_type": "code",
   "execution_count": 34,
   "id": "dae40e0a",
   "metadata": {},
   "outputs": [],
   "source": [
    "# remove the 1st attribute from the table and replace the 2 with -1 and 4 with +1"
   ]
  },
  {
   "cell_type": "code",
   "execution_count": 35,
   "id": "9aa96737",
   "metadata": {},
   "outputs": [],
   "source": [
    "diag_map = {4: 1.0, 2: -1.0}\n",
    "data['Class'] = data['Class'].map(diag_map)\n",
    "\n",
    "data= data.drop(labels='Sample code number', axis=1)"
   ]
  },
  {
   "cell_type": "code",
   "execution_count": 36,
   "id": "2f746aad",
   "metadata": {},
   "outputs": [],
   "source": [
    "#Get header values in the table"
   ]
  },
  {
   "cell_type": "code",
   "execution_count": 37,
   "id": "be9ee522",
   "metadata": {},
   "outputs": [
    {
     "data": {
      "text/html": [
       "<div>\n",
       "<style scoped>\n",
       "    .dataframe tbody tr th:only-of-type {\n",
       "        vertical-align: middle;\n",
       "    }\n",
       "\n",
       "    .dataframe tbody tr th {\n",
       "        vertical-align: top;\n",
       "    }\n",
       "\n",
       "    .dataframe thead th {\n",
       "        text-align: right;\n",
       "    }\n",
       "</style>\n",
       "<table border=\"1\" class=\"dataframe\">\n",
       "  <thead>\n",
       "    <tr style=\"text-align: right;\">\n",
       "      <th></th>\n",
       "      <th>Clump Thickness</th>\n",
       "      <th>Uniformity of Cell Size</th>\n",
       "      <th>Uniformity of Cell Shape</th>\n",
       "      <th>Marginal Adhesion</th>\n",
       "      <th>Single Epithelial Cell Size</th>\n",
       "      <th>Bare Nuclei</th>\n",
       "      <th>Bland Chromatin</th>\n",
       "      <th>Normal Nucleoli</th>\n",
       "      <th>Mitoses</th>\n",
       "      <th>Class</th>\n",
       "    </tr>\n",
       "  </thead>\n",
       "  <tbody>\n",
       "    <tr>\n",
       "      <th>0</th>\n",
       "      <td>5</td>\n",
       "      <td>1</td>\n",
       "      <td>1</td>\n",
       "      <td>1</td>\n",
       "      <td>2</td>\n",
       "      <td>1</td>\n",
       "      <td>3</td>\n",
       "      <td>1</td>\n",
       "      <td>1</td>\n",
       "      <td>-1.0</td>\n",
       "    </tr>\n",
       "    <tr>\n",
       "      <th>1</th>\n",
       "      <td>5</td>\n",
       "      <td>4</td>\n",
       "      <td>4</td>\n",
       "      <td>5</td>\n",
       "      <td>7</td>\n",
       "      <td>10</td>\n",
       "      <td>3</td>\n",
       "      <td>2</td>\n",
       "      <td>1</td>\n",
       "      <td>-1.0</td>\n",
       "    </tr>\n",
       "    <tr>\n",
       "      <th>2</th>\n",
       "      <td>3</td>\n",
       "      <td>1</td>\n",
       "      <td>1</td>\n",
       "      <td>1</td>\n",
       "      <td>2</td>\n",
       "      <td>2</td>\n",
       "      <td>3</td>\n",
       "      <td>1</td>\n",
       "      <td>1</td>\n",
       "      <td>-1.0</td>\n",
       "    </tr>\n",
       "    <tr>\n",
       "      <th>3</th>\n",
       "      <td>6</td>\n",
       "      <td>8</td>\n",
       "      <td>8</td>\n",
       "      <td>1</td>\n",
       "      <td>3</td>\n",
       "      <td>4</td>\n",
       "      <td>3</td>\n",
       "      <td>7</td>\n",
       "      <td>1</td>\n",
       "      <td>-1.0</td>\n",
       "    </tr>\n",
       "    <tr>\n",
       "      <th>4</th>\n",
       "      <td>4</td>\n",
       "      <td>1</td>\n",
       "      <td>1</td>\n",
       "      <td>3</td>\n",
       "      <td>2</td>\n",
       "      <td>1</td>\n",
       "      <td>3</td>\n",
       "      <td>1</td>\n",
       "      <td>1</td>\n",
       "      <td>-1.0</td>\n",
       "    </tr>\n",
       "  </tbody>\n",
       "</table>\n",
       "</div>"
      ],
      "text/plain": [
       "   Clump Thickness  Uniformity of Cell Size  Uniformity of Cell Shape  \\\n",
       "0                5                        1                         1   \n",
       "1                5                        4                         4   \n",
       "2                3                        1                         1   \n",
       "3                6                        8                         8   \n",
       "4                4                        1                         1   \n",
       "\n",
       "   Marginal Adhesion  Single Epithelial Cell Size  Bare Nuclei  \\\n",
       "0                  1                            2            1   \n",
       "1                  5                            7           10   \n",
       "2                  1                            2            2   \n",
       "3                  1                            3            4   \n",
       "4                  3                            2            1   \n",
       "\n",
       "   Bland Chromatin  Normal Nucleoli  Mitoses  Class  \n",
       "0                3                1        1   -1.0  \n",
       "1                3                2        1   -1.0  \n",
       "2                3                1        1   -1.0  \n",
       "3                3                7        1   -1.0  \n",
       "4                3                1        1   -1.0  "
      ]
     },
     "execution_count": 37,
     "metadata": {},
     "output_type": "execute_result"
    }
   ],
   "source": [
    "data.head()"
   ]
  },
  {
   "cell_type": "code",
   "execution_count": 38,
   "id": "156b8762",
   "metadata": {},
   "outputs": [],
   "source": [
    "x=data.iloc[:,0:9]"
   ]
  },
  {
   "cell_type": "code",
   "execution_count": 39,
   "id": "a89a9993",
   "metadata": {},
   "outputs": [
    {
     "name": "stdout",
     "output_type": "stream",
     "text": [
      "     Clump Thickness  Uniformity of Cell Size  Uniformity of Cell Shape  \\\n",
      "0                  5                        1                         1   \n",
      "1                  5                        4                         4   \n",
      "2                  3                        1                         1   \n",
      "3                  6                        8                         8   \n",
      "4                  4                        1                         1   \n",
      "..               ...                      ...                       ...   \n",
      "694                3                        1                         1   \n",
      "695                2                        1                         1   \n",
      "696                5                       10                        10   \n",
      "697                4                        8                         6   \n",
      "698                4                        8                         8   \n",
      "\n",
      "     Marginal Adhesion  Single Epithelial Cell Size  Bare Nuclei  \\\n",
      "0                    1                            2            1   \n",
      "1                    5                            7           10   \n",
      "2                    1                            2            2   \n",
      "3                    1                            3            4   \n",
      "4                    3                            2            1   \n",
      "..                 ...                          ...          ...   \n",
      "694                  1                            3            2   \n",
      "695                  1                            2            1   \n",
      "696                  3                            7            3   \n",
      "697                  4                            3            4   \n",
      "698                  5                            4            5   \n",
      "\n",
      "     Bland Chromatin  Normal Nucleoli  Mitoses  \n",
      "0                  3                1        1  \n",
      "1                  3                2        1  \n",
      "2                  3                1        1  \n",
      "3                  3                7        1  \n",
      "4                  3                1        1  \n",
      "..               ...              ...      ...  \n",
      "694                1                1        1  \n",
      "695                1                1        1  \n",
      "696                8               10        2  \n",
      "697               10                6        1  \n",
      "698               10                4        1  \n",
      "\n",
      "[699 rows x 9 columns]\n"
     ]
    }
   ],
   "source": [
    "print(x)"
   ]
  },
  {
   "cell_type": "code",
   "execution_count": 40,
   "id": "db1fd4bc",
   "metadata": {},
   "outputs": [],
   "source": [
    "y=data.iloc[:,-1]"
   ]
  },
  {
   "cell_type": "code",
   "execution_count": 41,
   "id": "4f2632bb",
   "metadata": {},
   "outputs": [
    {
     "name": "stdout",
     "output_type": "stream",
     "text": [
      "0     -1.0\n",
      "1     -1.0\n",
      "2     -1.0\n",
      "3     -1.0\n",
      "4     -1.0\n",
      "      ... \n",
      "694   -1.0\n",
      "695   -1.0\n",
      "696    1.0\n",
      "697    1.0\n",
      "698    1.0\n",
      "Name: Class, Length: 699, dtype: float64\n"
     ]
    }
   ],
   "source": [
    "print(y)"
   ]
  },
  {
   "cell_type": "code",
   "execution_count": 42,
   "id": "522eb234",
   "metadata": {},
   "outputs": [],
   "source": [
    "#Split the data into traing and testing "
   ]
  },
  {
   "cell_type": "code",
   "execution_count": 43,
   "id": "d8efb2e0",
   "metadata": {},
   "outputs": [],
   "source": [
    "x_train=x.iloc[0:466] "
   ]
  },
  {
   "cell_type": "code",
   "execution_count": 44,
   "id": "a352b798",
   "metadata": {},
   "outputs": [
    {
     "name": "stdout",
     "output_type": "stream",
     "text": [
      "     Clump Thickness  Uniformity of Cell Size  Uniformity of Cell Shape  \\\n",
      "0                  5                        1                         1   \n",
      "1                  5                        4                         4   \n",
      "2                  3                        1                         1   \n",
      "3                  6                        8                         8   \n",
      "4                  4                        1                         1   \n",
      "..               ...                      ...                       ...   \n",
      "461                3                        1                         1   \n",
      "462                6                        1                         1   \n",
      "463                4                        1                         1   \n",
      "464                4                        1                         1   \n",
      "465               10                        9                         8   \n",
      "\n",
      "     Marginal Adhesion  Single Epithelial Cell Size  Bare Nuclei  \\\n",
      "0                    1                            2            1   \n",
      "1                    5                            7           10   \n",
      "2                    1                            2            2   \n",
      "3                    1                            3            4   \n",
      "4                    3                            2            1   \n",
      "..                 ...                          ...          ...   \n",
      "461                  1                            2            5   \n",
      "462                  3                            2            1   \n",
      "463                  1                            2            1   \n",
      "464                  1                            2            1   \n",
      "465                  7                            6            4   \n",
      "\n",
      "     Bland Chromatin  Normal Nucleoli  Mitoses  \n",
      "0                  3                1        1  \n",
      "1                  3                2        1  \n",
      "2                  3                1        1  \n",
      "3                  3                7        1  \n",
      "4                  3                1        1  \n",
      "..               ...              ...      ...  \n",
      "461                1                1        1  \n",
      "462                1                1        1  \n",
      "463                1                2        1  \n",
      "464                1                1        1  \n",
      "465                7               10        3  \n",
      "\n",
      "[466 rows x 9 columns]\n"
     ]
    }
   ],
   "source": [
    "print(x_train)"
   ]
  },
  {
   "cell_type": "code",
   "execution_count": 45,
   "id": "6aeed0c6",
   "metadata": {},
   "outputs": [],
   "source": [
    "x_test=x.iloc[466:]"
   ]
  },
  {
   "cell_type": "code",
   "execution_count": 46,
   "id": "c4dc5195",
   "metadata": {},
   "outputs": [
    {
     "name": "stdout",
     "output_type": "stream",
     "text": [
      "     Clump Thickness  Uniformity of Cell Size  Uniformity of Cell Shape  \\\n",
      "466               10                        6                         6   \n",
      "467                6                        6                         6   \n",
      "468                4                        1                         1   \n",
      "469                1                        1                         2   \n",
      "470                3                        1                         1   \n",
      "..               ...                      ...                       ...   \n",
      "694                3                        1                         1   \n",
      "695                2                        1                         1   \n",
      "696                5                       10                        10   \n",
      "697                4                        8                         6   \n",
      "698                4                        8                         8   \n",
      "\n",
      "     Marginal Adhesion  Single Epithelial Cell Size  Bare Nuclei  \\\n",
      "466                  2                            4           10   \n",
      "467                  5                            4           10   \n",
      "468                  1                            2            1   \n",
      "469                  1                            2            1   \n",
      "470                  1                            1            1   \n",
      "..                 ...                          ...          ...   \n",
      "694                  1                            3            2   \n",
      "695                  1                            2            1   \n",
      "696                  3                            7            3   \n",
      "697                  4                            3            4   \n",
      "698                  5                            4            5   \n",
      "\n",
      "     Bland Chromatin  Normal Nucleoli  Mitoses  \n",
      "466                9                7        1  \n",
      "467                7                6        2  \n",
      "468                1                1        1  \n",
      "469                2                1        1  \n",
      "470                2                1        1  \n",
      "..               ...              ...      ...  \n",
      "694                1                1        1  \n",
      "695                1                1        1  \n",
      "696                8               10        2  \n",
      "697               10                6        1  \n",
      "698               10                4        1  \n",
      "\n",
      "[233 rows x 9 columns]\n"
     ]
    }
   ],
   "source": [
    "print(x_test)"
   ]
  },
  {
   "cell_type": "code",
   "execution_count": 47,
   "id": "0adb97ec",
   "metadata": {},
   "outputs": [],
   "source": [
    "y_train=y.iloc[0:466] "
   ]
  },
  {
   "cell_type": "code",
   "execution_count": 48,
   "id": "f934b99e",
   "metadata": {},
   "outputs": [
    {
     "name": "stdout",
     "output_type": "stream",
     "text": [
      "0     -1.0\n",
      "1     -1.0\n",
      "2     -1.0\n",
      "3     -1.0\n",
      "4     -1.0\n",
      "      ... \n",
      "461   -1.0\n",
      "462   -1.0\n",
      "463   -1.0\n",
      "464   -1.0\n",
      "465    1.0\n",
      "Name: Class, Length: 466, dtype: float64\n"
     ]
    }
   ],
   "source": [
    "print(y_train)"
   ]
  },
  {
   "cell_type": "code",
   "execution_count": 49,
   "id": "c1abf90b",
   "metadata": {},
   "outputs": [],
   "source": [
    "y_test=y.iloc[466:]"
   ]
  },
  {
   "cell_type": "code",
   "execution_count": 50,
   "id": "9eecb1ae",
   "metadata": {},
   "outputs": [
    {
     "name": "stdout",
     "output_type": "stream",
     "text": [
      "466    1.0\n",
      "467    1.0\n",
      "468   -1.0\n",
      "469   -1.0\n",
      "470   -1.0\n",
      "      ... \n",
      "694   -1.0\n",
      "695   -1.0\n",
      "696    1.0\n",
      "697    1.0\n",
      "698    1.0\n",
      "Name: Class, Length: 233, dtype: float64\n"
     ]
    }
   ],
   "source": [
    "print(y_test)"
   ]
  },
  {
   "cell_type": "code",
   "execution_count": 51,
   "id": "c4ed3a48",
   "metadata": {},
   "outputs": [],
   "source": [
    "#From the Paper , 1=PA, 2= PA-I, 3=PA-II, Soft Margins"
   ]
  },
  {
   "cell_type": "code",
   "execution_count": 52,
   "id": "f4cced56",
   "metadata": {},
   "outputs": [],
   "source": [
    "#Three variants\n",
    "#Eac variant empahsize a different update rule\n",
    "variant=[1,2,3]"
   ]
  },
  {
   "cell_type": "code",
   "execution_count": 53,
   "id": "854b498d",
   "metadata": {},
   "outputs": [
    {
     "name": "stdout",
     "output_type": "stream",
     "text": [
      "Algorithm 1\n",
      "1\n",
      "Training accuracy of the dataset:  82.83261802575107\n",
      "Algorithm 1\n",
      "1\n",
      "Testing accuracy of the dataset:  93.13304721030042\n",
      "Algorithm 1\n",
      "2\n",
      "Training accuracy of the dataset:  82.83261802575107\n",
      "Algorithm 1\n",
      "2\n",
      "Testing accuracy of the dataset:  93.13304721030042\n",
      "Algorithm 1\n",
      "10\n",
      "Training accuracy of the dataset:  82.61802575107296\n",
      "Algorithm 1\n",
      "10\n",
      "Testing accuracy of the dataset:  93.56223175965665\n",
      "Algorithm 2\n",
      "1\n",
      "Training accuracy of the dataset:  82.83261802575107\n",
      "Algorithm 2\n",
      "1\n",
      "Testing accuracy of the dataset:  93.13304721030042\n",
      "Algorithm 2\n",
      "2\n",
      "Training accuracy of the dataset:  82.83261802575107\n",
      "Algorithm 2\n",
      "2\n",
      "Testing accuracy of the dataset:  93.13304721030042\n",
      "Algorithm 2\n",
      "10\n",
      "Training accuracy of the dataset:  82.61802575107296\n",
      "Algorithm 2\n",
      "10\n",
      "Testing accuracy of the dataset:  93.56223175965665\n",
      "Algorithm 3\n",
      "1\n",
      "Training accuracy of the dataset:  83.69098712446352\n",
      "Algorithm 3\n",
      "1\n",
      "Testing accuracy of the dataset:  93.13304721030042\n",
      "Algorithm 3\n",
      "2\n",
      "Training accuracy of the dataset:  83.47639484978541\n",
      "Algorithm 3\n",
      "2\n",
      "Testing accuracy of the dataset:  93.99141630901288\n",
      "Algorithm 3\n",
      "10\n",
      "Training accuracy of the dataset:  81.75965665236052\n",
      "Algorithm 3\n",
      "10\n",
      "Testing accuracy of the dataset:  93.99141630901288\n"
     ]
    }
   ],
   "source": [
    "for s in variant:\n",
    "    #Number of iterations\n",
    "    #Maximum number of iterations the model makes oer the training data\n",
    "    iteration=[1,2,10]\n",
    "    for i in iteration:\n",
    "        #Initialize of the weight as w=[0,0,0,...,0]\n",
    "        W=np.zeros(9)\n",
    "        #initialize the aggressive parameter C\n",
    "        #Regularization parameter and denotes the penalization of the model will make on an incorrect prediction\n",
    "        C=1\n",
    "        \n",
    "        for r in range(i):\n",
    "            for p in range(x_train.shape[0]):\n",
    "                #initailixe the x train and  y train values\n",
    "                x_tr=x_train.iloc[p,:]\n",
    "                y_tr=y_train.iloc[p]\n",
    "                \n",
    "                #Calculate the suffer loss value\n",
    "                #loss=max{0,1-y_tr(w,T,x_tr)}\n",
    "                loss=max(0,1-(y_tr*np.dot(W.T,x_tr)))\n",
    "                #Calculate the PA value set the T value\n",
    "                if(s==1):\n",
    "                    T=loss/ (np.power(np.linalg.norm(x_tr,ord=2),2))\n",
    "                 #Calculate the PA-I value set the T value   \n",
    "                elif(s==2):\n",
    "                    T=min(C,loss /(np.power(np.linalg.norm(x_tr,ord=2),2)))\n",
    "                #Calculate the PA-II value set the T value   \n",
    "                else:\n",
    "                    T = loss / (np.power(np.linalg.norm(x_tr,ord=2),2))+(1/(2*C))\n",
    "                \n",
    "                #Update\n",
    "                W = W + T*y_tr*x_tr\n",
    "                \n",
    "        #Training_accuracy\n",
    "        correct_train_count=0\n",
    "        for c in range(x_train.shape[0]):\n",
    "            #initailixe the x train and y train values\n",
    "            x_tr=x_train.iloc[c,:]\n",
    "            y_tr=y_train.iloc[c]\n",
    "            #y_pred=sign(w.T,x_tr)\n",
    "            y_pred=np.sign(np.dot(W.T,x_tr))\n",
    "            \n",
    "            if(y_pred*y_tr==1):\n",
    "                correct_train_count+=1\n",
    "            train_accuracy=(correct_train_count/x_train.shape[0])*100\n",
    "\n",
    "        print(\"Algorithm\", s)\n",
    "        print(i)\n",
    "        print(\"Training accuracy of the dataset: \" , train_accuracy)\n",
    "        \n",
    "        #Testing_accuracy\n",
    "        correct_test_count=0\n",
    "        for c in range(x_test.shape[0]):\n",
    "            #initailixe the x test and y test values\n",
    "            x_tes=x_test.iloc[c,:]\n",
    "            y_tes=y_test.iloc[c]\n",
    "            #y_pred=sign(w.T,x_tr)\n",
    "            y_pred=np.sign(np.dot(W.T, x_tes))\n",
    "            \n",
    "            if(y_pred*y_tes==1):\n",
    "                correct_test_count+=1\n",
    "            test_accuracy=(correct_test_count/x_test.shape[0])*100\n",
    "            \n",
    "        print(\"Algorithm\", s)\n",
    "        print(i)\n",
    "        print(\"Testing accuracy of the dataset: \" , test_accuracy)"
   ]
  }
 ],
 "metadata": {
  "kernelspec": {
   "display_name": "Python 3",
   "language": "python",
   "name": "python3"
  },
  "language_info": {
   "codemirror_mode": {
    "name": "ipython",
    "version": 3
   },
   "file_extension": ".py",
   "mimetype": "text/x-python",
   "name": "python",
   "nbconvert_exporter": "python",
   "pygments_lexer": "ipython3",
   "version": "3.6.8"
  }
 },
 "nbformat": 4,
 "nbformat_minor": 5
}
